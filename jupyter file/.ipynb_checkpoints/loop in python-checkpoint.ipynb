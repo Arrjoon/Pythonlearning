{
 "cells": [
  {
   "cell_type": "code",
   "execution_count": 4,
   "id": "42da7626",
   "metadata": {},
   "outputs": [
    {
     "name": "stdout",
     "output_type": "stream",
     "text": [
      "0 ram\n",
      "1 hari\n",
      "2 govinda\n",
      "3 rameshowr\n"
     ]
    }
   ],
   "source": [
    "for key, value in enumerate([\"ram\",\"hari\",\"govinda\",\"rameshowr\"]):\n",
    "    print(key,value)"
   ]
  },
  {
   "cell_type": "code",
   "execution_count": 8,
   "id": "818d2389",
   "metadata": {},
   "outputs": [
    {
     "name": "stdout",
     "output_type": "stream",
     "text": [
      "0 ram\n",
      "1 hari\n",
      "2 govinda\n",
      "3 rameshowr\n"
     ]
    }
   ],
   "source": [
    "for key,value in enumerate([\"ram\",\"hari\",\"govinda\",\"rameshowr\"]):\n",
    "    print(key,value)"
   ]
  },
  {
   "cell_type": "markdown",
   "id": "fb2bc4bd",
   "metadata": {},
   "source": []
  }
 ],
 "metadata": {
  "kernelspec": {
   "display_name": "Python 3 (ipykernel)",
   "language": "python",
   "name": "python3"
  },
  "language_info": {
   "codemirror_mode": {
    "name": "ipython",
    "version": 3
   },
   "file_extension": ".py",
   "mimetype": "text/x-python",
   "name": "python",
   "nbconvert_exporter": "python",
   "pygments_lexer": "ipython3",
   "version": "3.9.7"
  }
 },
 "nbformat": 4,
 "nbformat_minor": 5
}
