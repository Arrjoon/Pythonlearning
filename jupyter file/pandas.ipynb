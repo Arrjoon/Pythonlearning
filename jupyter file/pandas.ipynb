{
 "cells": [
  {
   "cell_type": "code",
   "execution_count": 1,
   "id": "72ecc85d",
   "metadata": {},
   "outputs": [],
   "source": [
    "import numpy as np\n",
    "import pandas as pd"
   ]
  },
  {
   "cell_type": "code",
   "execution_count": 2,
   "id": "332df8ce",
   "metadata": {},
   "outputs": [],
   "source": [
    "dict1= {\n",
    "    \"name\":['hary','arjun','ram','ritik'],\n",
    "    \"marks\":[98,34,34,23],\n",
    "    \"city\":[\"kathmandu\",\"pokhara\",\"dhading\",\"hetauda\"]\n",
    "}"
   ]
  },
  {
   "cell_type": "code",
   "execution_count": 3,
   "id": "2e0f91f8",
   "metadata": {},
   "outputs": [],
   "source": [
    "df = pd.DataFrame(dict1)"
   ]
  },
  {
   "cell_type": "code",
   "execution_count": 4,
   "id": "9c492a95",
   "metadata": {},
   "outputs": [
    {
     "data": {
      "text/html": [
       "<div>\n",
       "<style scoped>\n",
       "    .dataframe tbody tr th:only-of-type {\n",
       "        vertical-align: middle;\n",
       "    }\n",
       "\n",
       "    .dataframe tbody tr th {\n",
       "        vertical-align: top;\n",
       "    }\n",
       "\n",
       "    .dataframe thead th {\n",
       "        text-align: right;\n",
       "    }\n",
       "</style>\n",
       "<table border=\"1\" class=\"dataframe\">\n",
       "  <thead>\n",
       "    <tr style=\"text-align: right;\">\n",
       "      <th></th>\n",
       "      <th>name</th>\n",
       "      <th>marks</th>\n",
       "      <th>city</th>\n",
       "    </tr>\n",
       "  </thead>\n",
       "  <tbody>\n",
       "    <tr>\n",
       "      <th>0</th>\n",
       "      <td>hary</td>\n",
       "      <td>98</td>\n",
       "      <td>kathmandu</td>\n",
       "    </tr>\n",
       "    <tr>\n",
       "      <th>1</th>\n",
       "      <td>arjun</td>\n",
       "      <td>34</td>\n",
       "      <td>pokhara</td>\n",
       "    </tr>\n",
       "    <tr>\n",
       "      <th>2</th>\n",
       "      <td>ram</td>\n",
       "      <td>34</td>\n",
       "      <td>dhading</td>\n",
       "    </tr>\n",
       "    <tr>\n",
       "      <th>3</th>\n",
       "      <td>ritik</td>\n",
       "      <td>23</td>\n",
       "      <td>hetauda</td>\n",
       "    </tr>\n",
       "  </tbody>\n",
       "</table>\n",
       "</div>"
      ],
      "text/plain": [
       "    name  marks       city\n",
       "0   hary     98  kathmandu\n",
       "1  arjun     34    pokhara\n",
       "2    ram     34    dhading\n",
       "3  ritik     23    hetauda"
      ]
     },
     "execution_count": 4,
     "metadata": {},
     "output_type": "execute_result"
    }
   ],
   "source": [
    "df"
   ]
  },
  {
   "cell_type": "code",
   "execution_count": 5,
   "id": "5acaf129",
   "metadata": {},
   "outputs": [],
   "source": [
    "df.to_csv('friendindex.csv')"
   ]
  },
  {
   "cell_type": "code",
   "execution_count": 6,
   "id": "c6518af5",
   "metadata": {},
   "outputs": [],
   "source": [
    "df.to_csv('friends.csv',index = False)"
   ]
  },
  {
   "cell_type": "code",
   "execution_count": 7,
   "id": "ef6ee3d2",
   "metadata": {},
   "outputs": [
    {
     "data": {
      "text/html": [
       "<div>\n",
       "<style scoped>\n",
       "    .dataframe tbody tr th:only-of-type {\n",
       "        vertical-align: middle;\n",
       "    }\n",
       "\n",
       "    .dataframe tbody tr th {\n",
       "        vertical-align: top;\n",
       "    }\n",
       "\n",
       "    .dataframe thead th {\n",
       "        text-align: right;\n",
       "    }\n",
       "</style>\n",
       "<table border=\"1\" class=\"dataframe\">\n",
       "  <thead>\n",
       "    <tr style=\"text-align: right;\">\n",
       "      <th></th>\n",
       "      <th>name</th>\n",
       "      <th>marks</th>\n",
       "      <th>city</th>\n",
       "    </tr>\n",
       "  </thead>\n",
       "  <tbody>\n",
       "    <tr>\n",
       "      <th>0</th>\n",
       "      <td>hary</td>\n",
       "      <td>98</td>\n",
       "      <td>kathmandu</td>\n",
       "    </tr>\n",
       "    <tr>\n",
       "      <th>1</th>\n",
       "      <td>arjun</td>\n",
       "      <td>34</td>\n",
       "      <td>pokhara</td>\n",
       "    </tr>\n",
       "  </tbody>\n",
       "</table>\n",
       "</div>"
      ],
      "text/plain": [
       "    name  marks       city\n",
       "0   hary     98  kathmandu\n",
       "1  arjun     34    pokhara"
      ]
     },
     "execution_count": 7,
     "metadata": {},
     "output_type": "execute_result"
    }
   ],
   "source": [
    "df.head(2)"
   ]
  },
  {
   "cell_type": "code",
   "execution_count": 8,
   "id": "94a5fe5e",
   "metadata": {},
   "outputs": [
    {
     "data": {
      "text/html": [
       "<div>\n",
       "<style scoped>\n",
       "    .dataframe tbody tr th:only-of-type {\n",
       "        vertical-align: middle;\n",
       "    }\n",
       "\n",
       "    .dataframe tbody tr th {\n",
       "        vertical-align: top;\n",
       "    }\n",
       "\n",
       "    .dataframe thead th {\n",
       "        text-align: right;\n",
       "    }\n",
       "</style>\n",
       "<table border=\"1\" class=\"dataframe\">\n",
       "  <thead>\n",
       "    <tr style=\"text-align: right;\">\n",
       "      <th></th>\n",
       "      <th>name</th>\n",
       "      <th>marks</th>\n",
       "      <th>city</th>\n",
       "    </tr>\n",
       "  </thead>\n",
       "  <tbody>\n",
       "    <tr>\n",
       "      <th>2</th>\n",
       "      <td>ram</td>\n",
       "      <td>34</td>\n",
       "      <td>dhading</td>\n",
       "    </tr>\n",
       "    <tr>\n",
       "      <th>3</th>\n",
       "      <td>ritik</td>\n",
       "      <td>23</td>\n",
       "      <td>hetauda</td>\n",
       "    </tr>\n",
       "  </tbody>\n",
       "</table>\n",
       "</div>"
      ],
      "text/plain": [
       "    name  marks     city\n",
       "2    ram     34  dhading\n",
       "3  ritik     23  hetauda"
      ]
     },
     "execution_count": 8,
     "metadata": {},
     "output_type": "execute_result"
    }
   ],
   "source": [
    "df.tail(2)"
   ]
  },
  {
   "cell_type": "code",
   "execution_count": 9,
   "id": "bfc4e09e",
   "metadata": {},
   "outputs": [
    {
     "data": {
      "text/html": [
       "<div>\n",
       "<style scoped>\n",
       "    .dataframe tbody tr th:only-of-type {\n",
       "        vertical-align: middle;\n",
       "    }\n",
       "\n",
       "    .dataframe tbody tr th {\n",
       "        vertical-align: top;\n",
       "    }\n",
       "\n",
       "    .dataframe thead th {\n",
       "        text-align: right;\n",
       "    }\n",
       "</style>\n",
       "<table border=\"1\" class=\"dataframe\">\n",
       "  <thead>\n",
       "    <tr style=\"text-align: right;\">\n",
       "      <th></th>\n",
       "      <th>marks</th>\n",
       "    </tr>\n",
       "  </thead>\n",
       "  <tbody>\n",
       "    <tr>\n",
       "      <th>count</th>\n",
       "      <td>4.0000</td>\n",
       "    </tr>\n",
       "    <tr>\n",
       "      <th>mean</th>\n",
       "      <td>47.2500</td>\n",
       "    </tr>\n",
       "    <tr>\n",
       "      <th>std</th>\n",
       "      <td>34.2284</td>\n",
       "    </tr>\n",
       "    <tr>\n",
       "      <th>min</th>\n",
       "      <td>23.0000</td>\n",
       "    </tr>\n",
       "    <tr>\n",
       "      <th>25%</th>\n",
       "      <td>31.2500</td>\n",
       "    </tr>\n",
       "    <tr>\n",
       "      <th>50%</th>\n",
       "      <td>34.0000</td>\n",
       "    </tr>\n",
       "    <tr>\n",
       "      <th>75%</th>\n",
       "      <td>50.0000</td>\n",
       "    </tr>\n",
       "    <tr>\n",
       "      <th>max</th>\n",
       "      <td>98.0000</td>\n",
       "    </tr>\n",
       "  </tbody>\n",
       "</table>\n",
       "</div>"
      ],
      "text/plain": [
       "         marks\n",
       "count   4.0000\n",
       "mean   47.2500\n",
       "std    34.2284\n",
       "min    23.0000\n",
       "25%    31.2500\n",
       "50%    34.0000\n",
       "75%    50.0000\n",
       "max    98.0000"
      ]
     },
     "execution_count": 9,
     "metadata": {},
     "output_type": "execute_result"
    }
   ],
   "source": [
    "df.describe()"
   ]
  },
  {
   "cell_type": "code",
   "execution_count": 10,
   "id": "6108cb7c",
   "metadata": {},
   "outputs": [],
   "source": [
    "arjun = pd.read_csv(\"arjun.csv\")"
   ]
  },
  {
   "cell_type": "code",
   "execution_count": 11,
   "id": "2a1159d2",
   "metadata": {},
   "outputs": [
    {
     "data": {
      "text/html": [
       "<div>\n",
       "<style scoped>\n",
       "    .dataframe tbody tr th:only-of-type {\n",
       "        vertical-align: middle;\n",
       "    }\n",
       "\n",
       "    .dataframe tbody tr th {\n",
       "        vertical-align: top;\n",
       "    }\n",
       "\n",
       "    .dataframe thead th {\n",
       "        text-align: right;\n",
       "    }\n",
       "</style>\n",
       "<table border=\"1\" class=\"dataframe\">\n",
       "  <thead>\n",
       "    <tr style=\"text-align: right;\">\n",
       "      <th></th>\n",
       "      <th>Unnamed: 0</th>\n",
       "      <th>name</th>\n",
       "      <th>roll no</th>\n",
       "      <th>city</th>\n",
       "    </tr>\n",
       "  </thead>\n",
       "  <tbody>\n",
       "    <tr>\n",
       "      <th>0</th>\n",
       "      <td>0</td>\n",
       "      <td>arjun</td>\n",
       "      <td>1</td>\n",
       "      <td>kathmandu</td>\n",
       "    </tr>\n",
       "    <tr>\n",
       "      <th>1</th>\n",
       "      <td>1</td>\n",
       "      <td>ram</td>\n",
       "      <td>3</td>\n",
       "      <td>pokhara</td>\n",
       "    </tr>\n",
       "    <tr>\n",
       "      <th>2</th>\n",
       "      <td>2</td>\n",
       "      <td>hari</td>\n",
       "      <td>4</td>\n",
       "      <td>dhading</td>\n",
       "    </tr>\n",
       "    <tr>\n",
       "      <th>3</th>\n",
       "      <td>3</td>\n",
       "      <td>nirpesh</td>\n",
       "      <td>5</td>\n",
       "      <td>hetauda</td>\n",
       "    </tr>\n",
       "  </tbody>\n",
       "</table>\n",
       "</div>"
      ],
      "text/plain": [
       "   Unnamed: 0     name  roll no        city\n",
       "0           0    arjun         1  kathmandu\n",
       "1           1     ram          3    pokhara\n",
       "2           2     hari         4    dhading\n",
       "3           3  nirpesh         5    hetauda"
      ]
     },
     "execution_count": 11,
     "metadata": {},
     "output_type": "execute_result"
    }
   ],
   "source": [
    "arjun"
   ]
  },
  {
   "cell_type": "code",
   "execution_count": 12,
   "id": "89145b22",
   "metadata": {},
   "outputs": [],
   "source": [
    "ser = pd.Series(np.random.rand(34))"
   ]
  },
  {
   "cell_type": "code",
   "execution_count": 13,
   "id": "b78b723c",
   "metadata": {},
   "outputs": [
    {
     "data": {
      "text/plain": [
       "pandas.core.series.Series"
      ]
     },
     "execution_count": 13,
     "metadata": {},
     "output_type": "execute_result"
    }
   ],
   "source": [
    "type(ser)"
   ]
  },
  {
   "cell_type": "code",
   "execution_count": 14,
   "id": "69e7a011",
   "metadata": {},
   "outputs": [
    {
     "data": {
      "text/plain": [
       "0     0.978185\n",
       "1     0.124338\n",
       "2     0.581285\n",
       "3     0.886465\n",
       "4     0.161793\n",
       "5     0.792259\n",
       "6     0.296646\n",
       "7     0.654268\n",
       "8     0.671999\n",
       "9     0.541084\n",
       "10    0.459863\n",
       "11    0.931510\n",
       "12    0.178301\n",
       "13    0.519160\n",
       "14    0.295373\n",
       "15    0.942949\n",
       "16    0.176729\n",
       "17    0.454784\n",
       "18    0.671858\n",
       "19    0.327114\n",
       "20    0.167281\n",
       "21    0.895866\n",
       "22    0.350276\n",
       "23    0.699733\n",
       "24    0.617210\n",
       "25    0.496895\n",
       "26    0.064976\n",
       "27    0.317413\n",
       "28    0.521246\n",
       "29    0.613170\n",
       "30    0.857757\n",
       "31    0.379993\n",
       "32    0.277180\n",
       "33    0.044317\n",
       "dtype: float64"
      ]
     },
     "execution_count": 14,
     "metadata": {},
     "output_type": "execute_result"
    }
   ],
   "source": [
    "ser"
   ]
  },
  {
   "cell_type": "code",
   "execution_count": 15,
   "id": "fc8a2c42",
   "metadata": {},
   "outputs": [],
   "source": [
    "newdf = pd.DataFrame(np.random.rand(334,5),index =np.arange(334))"
   ]
  },
  {
   "cell_type": "code",
   "execution_count": 16,
   "id": "ee6faedd",
   "metadata": {},
   "outputs": [
    {
     "data": {
      "text/html": [
       "<div>\n",
       "<style scoped>\n",
       "    .dataframe tbody tr th:only-of-type {\n",
       "        vertical-align: middle;\n",
       "    }\n",
       "\n",
       "    .dataframe tbody tr th {\n",
       "        vertical-align: top;\n",
       "    }\n",
       "\n",
       "    .dataframe thead th {\n",
       "        text-align: right;\n",
       "    }\n",
       "</style>\n",
       "<table border=\"1\" class=\"dataframe\">\n",
       "  <thead>\n",
       "    <tr style=\"text-align: right;\">\n",
       "      <th></th>\n",
       "      <th>0</th>\n",
       "      <th>1</th>\n",
       "      <th>2</th>\n",
       "      <th>3</th>\n",
       "      <th>4</th>\n",
       "    </tr>\n",
       "  </thead>\n",
       "  <tbody>\n",
       "    <tr>\n",
       "      <th>0</th>\n",
       "      <td>0.840657</td>\n",
       "      <td>0.262000</td>\n",
       "      <td>0.322648</td>\n",
       "      <td>0.496460</td>\n",
       "      <td>0.239799</td>\n",
       "    </tr>\n",
       "    <tr>\n",
       "      <th>1</th>\n",
       "      <td>0.391300</td>\n",
       "      <td>0.803922</td>\n",
       "      <td>0.248244</td>\n",
       "      <td>0.509155</td>\n",
       "      <td>0.490879</td>\n",
       "    </tr>\n",
       "    <tr>\n",
       "      <th>2</th>\n",
       "      <td>0.390498</td>\n",
       "      <td>0.739197</td>\n",
       "      <td>0.909612</td>\n",
       "      <td>0.145330</td>\n",
       "      <td>0.392688</td>\n",
       "    </tr>\n",
       "    <tr>\n",
       "      <th>3</th>\n",
       "      <td>0.537984</td>\n",
       "      <td>0.141248</td>\n",
       "      <td>0.139826</td>\n",
       "      <td>0.588200</td>\n",
       "      <td>0.536134</td>\n",
       "    </tr>\n",
       "    <tr>\n",
       "      <th>4</th>\n",
       "      <td>0.153436</td>\n",
       "      <td>0.731739</td>\n",
       "      <td>0.626022</td>\n",
       "      <td>0.848761</td>\n",
       "      <td>0.669403</td>\n",
       "    </tr>\n",
       "    <tr>\n",
       "      <th>...</th>\n",
       "      <td>...</td>\n",
       "      <td>...</td>\n",
       "      <td>...</td>\n",
       "      <td>...</td>\n",
       "      <td>...</td>\n",
       "    </tr>\n",
       "    <tr>\n",
       "      <th>329</th>\n",
       "      <td>0.930298</td>\n",
       "      <td>0.807770</td>\n",
       "      <td>0.950211</td>\n",
       "      <td>0.655299</td>\n",
       "      <td>0.289971</td>\n",
       "    </tr>\n",
       "    <tr>\n",
       "      <th>330</th>\n",
       "      <td>0.694124</td>\n",
       "      <td>0.967449</td>\n",
       "      <td>0.015942</td>\n",
       "      <td>0.626446</td>\n",
       "      <td>0.015236</td>\n",
       "    </tr>\n",
       "    <tr>\n",
       "      <th>331</th>\n",
       "      <td>0.063903</td>\n",
       "      <td>0.645786</td>\n",
       "      <td>0.007187</td>\n",
       "      <td>0.862605</td>\n",
       "      <td>0.052344</td>\n",
       "    </tr>\n",
       "    <tr>\n",
       "      <th>332</th>\n",
       "      <td>0.252695</td>\n",
       "      <td>0.692599</td>\n",
       "      <td>0.649806</td>\n",
       "      <td>0.514493</td>\n",
       "      <td>0.509782</td>\n",
       "    </tr>\n",
       "    <tr>\n",
       "      <th>333</th>\n",
       "      <td>0.083230</td>\n",
       "      <td>0.604429</td>\n",
       "      <td>0.379274</td>\n",
       "      <td>0.312115</td>\n",
       "      <td>0.291520</td>\n",
       "    </tr>\n",
       "  </tbody>\n",
       "</table>\n",
       "<p>334 rows × 5 columns</p>\n",
       "</div>"
      ],
      "text/plain": [
       "            0         1         2         3         4\n",
       "0    0.840657  0.262000  0.322648  0.496460  0.239799\n",
       "1    0.391300  0.803922  0.248244  0.509155  0.490879\n",
       "2    0.390498  0.739197  0.909612  0.145330  0.392688\n",
       "3    0.537984  0.141248  0.139826  0.588200  0.536134\n",
       "4    0.153436  0.731739  0.626022  0.848761  0.669403\n",
       "..        ...       ...       ...       ...       ...\n",
       "329  0.930298  0.807770  0.950211  0.655299  0.289971\n",
       "330  0.694124  0.967449  0.015942  0.626446  0.015236\n",
       "331  0.063903  0.645786  0.007187  0.862605  0.052344\n",
       "332  0.252695  0.692599  0.649806  0.514493  0.509782\n",
       "333  0.083230  0.604429  0.379274  0.312115  0.291520\n",
       "\n",
       "[334 rows x 5 columns]"
      ]
     },
     "execution_count": 16,
     "metadata": {},
     "output_type": "execute_result"
    }
   ],
   "source": [
    "newdf"
   ]
  },
  {
   "cell_type": "code",
   "execution_count": 17,
   "id": "0914dcf8",
   "metadata": {},
   "outputs": [
    {
     "data": {
      "text/plain": [
       "pandas.core.frame.DataFrame"
      ]
     },
     "execution_count": 17,
     "metadata": {},
     "output_type": "execute_result"
    }
   ],
   "source": [
    "type(newdf)"
   ]
  },
  {
   "cell_type": "code",
   "execution_count": 19,
   "id": "ec7d5d6b",
   "metadata": {},
   "outputs": [
    {
     "data": {
      "text/plain": [
       "0    float64\n",
       "1    float64\n",
       "2    float64\n",
       "3    float64\n",
       "4    float64\n",
       "dtype: object"
      ]
     },
     "execution_count": 19,
     "metadata": {},
     "output_type": "execute_result"
    }
   ],
   "source": [
    "newdf.dtypes"
   ]
  },
  {
   "cell_type": "code",
   "execution_count": 21,
   "id": "c499d6a5",
   "metadata": {},
   "outputs": [
    {
     "data": {
      "text/html": [
       "<div>\n",
       "<style scoped>\n",
       "    .dataframe tbody tr th:only-of-type {\n",
       "        vertical-align: middle;\n",
       "    }\n",
       "\n",
       "    .dataframe tbody tr th {\n",
       "        vertical-align: top;\n",
       "    }\n",
       "\n",
       "    .dataframe thead th {\n",
       "        text-align: right;\n",
       "    }\n",
       "</style>\n",
       "<table border=\"1\" class=\"dataframe\">\n",
       "  <thead>\n",
       "    <tr style=\"text-align: right;\">\n",
       "      <th></th>\n",
       "      <th>0</th>\n",
       "      <th>1</th>\n",
       "      <th>2</th>\n",
       "      <th>3</th>\n",
       "      <th>4</th>\n",
       "    </tr>\n",
       "  </thead>\n",
       "  <tbody>\n",
       "    <tr>\n",
       "      <th>count</th>\n",
       "      <td>334.000000</td>\n",
       "      <td>334.000000</td>\n",
       "      <td>334.000000</td>\n",
       "      <td>334.000000</td>\n",
       "      <td>334.000000</td>\n",
       "    </tr>\n",
       "    <tr>\n",
       "      <th>mean</th>\n",
       "      <td>0.506605</td>\n",
       "      <td>0.494251</td>\n",
       "      <td>0.500539</td>\n",
       "      <td>0.519836</td>\n",
       "      <td>0.532847</td>\n",
       "    </tr>\n",
       "    <tr>\n",
       "      <th>std</th>\n",
       "      <td>0.292803</td>\n",
       "      <td>0.284685</td>\n",
       "      <td>0.291948</td>\n",
       "      <td>0.280558</td>\n",
       "      <td>0.285375</td>\n",
       "    </tr>\n",
       "    <tr>\n",
       "      <th>min</th>\n",
       "      <td>0.004449</td>\n",
       "      <td>0.000700</td>\n",
       "      <td>0.006243</td>\n",
       "      <td>0.006536</td>\n",
       "      <td>0.002990</td>\n",
       "    </tr>\n",
       "    <tr>\n",
       "      <th>25%</th>\n",
       "      <td>0.249846</td>\n",
       "      <td>0.260160</td>\n",
       "      <td>0.246744</td>\n",
       "      <td>0.294919</td>\n",
       "      <td>0.292052</td>\n",
       "    </tr>\n",
       "    <tr>\n",
       "      <th>50%</th>\n",
       "      <td>0.517518</td>\n",
       "      <td>0.485400</td>\n",
       "      <td>0.490842</td>\n",
       "      <td>0.516673</td>\n",
       "      <td>0.537832</td>\n",
       "    </tr>\n",
       "    <tr>\n",
       "      <th>75%</th>\n",
       "      <td>0.758541</td>\n",
       "      <td>0.740247</td>\n",
       "      <td>0.756456</td>\n",
       "      <td>0.776822</td>\n",
       "      <td>0.771106</td>\n",
       "    </tr>\n",
       "    <tr>\n",
       "      <th>max</th>\n",
       "      <td>0.998356</td>\n",
       "      <td>0.998191</td>\n",
       "      <td>0.998950</td>\n",
       "      <td>0.999086</td>\n",
       "      <td>0.995310</td>\n",
       "    </tr>\n",
       "  </tbody>\n",
       "</table>\n",
       "</div>"
      ],
      "text/plain": [
       "                0           1           2           3           4\n",
       "count  334.000000  334.000000  334.000000  334.000000  334.000000\n",
       "mean     0.506605    0.494251    0.500539    0.519836    0.532847\n",
       "std      0.292803    0.284685    0.291948    0.280558    0.285375\n",
       "min      0.004449    0.000700    0.006243    0.006536    0.002990\n",
       "25%      0.249846    0.260160    0.246744    0.294919    0.292052\n",
       "50%      0.517518    0.485400    0.490842    0.516673    0.537832\n",
       "75%      0.758541    0.740247    0.756456    0.776822    0.771106\n",
       "max      0.998356    0.998191    0.998950    0.999086    0.995310"
      ]
     },
     "execution_count": 21,
     "metadata": {},
     "output_type": "execute_result"
    }
   ],
   "source": [
    "newdf.describe()"
   ]
  },
  {
   "cell_type": "code",
   "execution_count": 23,
   "id": "16f9529a",
   "metadata": {},
   "outputs": [],
   "source": [
    "newdf[0][0]=\"arjun\""
   ]
  },
  {
   "cell_type": "code",
   "execution_count": 25,
   "id": "6fb8321d",
   "metadata": {},
   "outputs": [
    {
     "data": {
      "text/html": [
       "<div>\n",
       "<style scoped>\n",
       "    .dataframe tbody tr th:only-of-type {\n",
       "        vertical-align: middle;\n",
       "    }\n",
       "\n",
       "    .dataframe tbody tr th {\n",
       "        vertical-align: top;\n",
       "    }\n",
       "\n",
       "    .dataframe thead th {\n",
       "        text-align: right;\n",
       "    }\n",
       "</style>\n",
       "<table border=\"1\" class=\"dataframe\">\n",
       "  <thead>\n",
       "    <tr style=\"text-align: right;\">\n",
       "      <th></th>\n",
       "      <th>0</th>\n",
       "      <th>1</th>\n",
       "      <th>2</th>\n",
       "      <th>3</th>\n",
       "      <th>4</th>\n",
       "    </tr>\n",
       "  </thead>\n",
       "  <tbody>\n",
       "    <tr>\n",
       "      <th>0</th>\n",
       "      <td>arjun</td>\n",
       "      <td>0.262000</td>\n",
       "      <td>0.322648</td>\n",
       "      <td>0.496460</td>\n",
       "      <td>0.239799</td>\n",
       "    </tr>\n",
       "    <tr>\n",
       "      <th>1</th>\n",
       "      <td>0.3913</td>\n",
       "      <td>0.803922</td>\n",
       "      <td>0.248244</td>\n",
       "      <td>0.509155</td>\n",
       "      <td>0.490879</td>\n",
       "    </tr>\n",
       "    <tr>\n",
       "      <th>2</th>\n",
       "      <td>0.390498</td>\n",
       "      <td>0.739197</td>\n",
       "      <td>0.909612</td>\n",
       "      <td>0.145330</td>\n",
       "      <td>0.392688</td>\n",
       "    </tr>\n",
       "    <tr>\n",
       "      <th>3</th>\n",
       "      <td>0.537984</td>\n",
       "      <td>0.141248</td>\n",
       "      <td>0.139826</td>\n",
       "      <td>0.588200</td>\n",
       "      <td>0.536134</td>\n",
       "    </tr>\n",
       "    <tr>\n",
       "      <th>4</th>\n",
       "      <td>0.153436</td>\n",
       "      <td>0.731739</td>\n",
       "      <td>0.626022</td>\n",
       "      <td>0.848761</td>\n",
       "      <td>0.669403</td>\n",
       "    </tr>\n",
       "  </tbody>\n",
       "</table>\n",
       "</div>"
      ],
      "text/plain": [
       "          0         1         2         3         4\n",
       "0     arjun  0.262000  0.322648  0.496460  0.239799\n",
       "1    0.3913  0.803922  0.248244  0.509155  0.490879\n",
       "2  0.390498  0.739197  0.909612  0.145330  0.392688\n",
       "3  0.537984  0.141248  0.139826  0.588200  0.536134\n",
       "4  0.153436  0.731739  0.626022  0.848761  0.669403"
      ]
     },
     "execution_count": 25,
     "metadata": {},
     "output_type": "execute_result"
    }
   ],
   "source": [
    "newdf.head()"
   ]
  },
  {
   "cell_type": "code",
   "execution_count": 28,
   "id": "5191a658",
   "metadata": {},
   "outputs": [
    {
     "data": {
      "text/plain": [
       "<bound method DataFrame.to_numpy of             0         1         2         3         4\n",
       "0       arjun  0.262000  0.322648  0.496460  0.239799\n",
       "1      0.3913  0.803922  0.248244  0.509155  0.490879\n",
       "2    0.390498  0.739197  0.909612  0.145330  0.392688\n",
       "3    0.537984  0.141248  0.139826  0.588200  0.536134\n",
       "4    0.153436  0.731739  0.626022  0.848761  0.669403\n",
       "..        ...       ...       ...       ...       ...\n",
       "329  0.930298  0.807770  0.950211  0.655299  0.289971\n",
       "330  0.694124  0.967449  0.015942  0.626446  0.015236\n",
       "331  0.063903  0.645786  0.007187  0.862605  0.052344\n",
       "332  0.252695  0.692599  0.649806  0.514493  0.509782\n",
       "333   0.08323  0.604429  0.379274  0.312115  0.291520\n",
       "\n",
       "[334 rows x 5 columns]>"
      ]
     },
     "execution_count": 28,
     "metadata": {},
     "output_type": "execute_result"
    }
   ],
   "source": [
    "newdf.to_numpy"
   ]
  },
  {
   "cell_type": "code",
   "execution_count": null,
   "id": "84952992",
   "metadata": {},
   "outputs": [],
   "source": []
  }
 ],
 "metadata": {
  "kernelspec": {
   "display_name": "Python 3 (ipykernel)",
   "language": "python",
   "name": "python3"
  },
  "language_info": {
   "codemirror_mode": {
    "name": "ipython",
    "version": 3
   },
   "file_extension": ".py",
   "mimetype": "text/x-python",
   "name": "python",
   "nbconvert_exporter": "python",
   "pygments_lexer": "ipython3",
   "version": "3.9.7"
  }
 },
 "nbformat": 4,
 "nbformat_minor": 5
}
