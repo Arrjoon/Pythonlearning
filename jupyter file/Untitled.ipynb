{
 "cells": [
  {
   "cell_type": "code",
   "execution_count": 1,
   "id": "f94cf4ef",
   "metadata": {},
   "outputs": [],
   "source": [
    "import random"
   ]
  },
  {
   "cell_type": "code",
   "execution_count": 14,
   "id": "8ed6bb00",
   "metadata": {},
   "outputs": [],
   "source": [
    "for letter in word:\n",
    "            if letter in guessmade:\n",
    "                main_word = main_word + letter\n",
    "            else:\n",
    "                main_word = main_word + \"_ \""
   ]
  },
  {
   "cell_type": "code",
   "execution_count": 10,
   "id": "9e52901d",
   "metadata": {},
   "outputs": [],
   "source": [
    "word = \"nepal\"\n",
    "guessmade = \"l\"\n",
    "main_word = \"\""
   ]
  },
  {
   "cell_type": "code",
   "execution_count": 12,
   "id": "d8bac183",
   "metadata": {},
   "outputs": [
    {
     "data": {
      "text/plain": [
       "'_ _ _ _ l'"
      ]
     },
     "execution_count": 12,
     "metadata": {},
     "output_type": "execute_result"
    }
   ],
   "source": [
    "main_word"
   ]
  },
  {
   "cell_type": "code",
   "execution_count": 13,
   "id": "97a58cc1",
   "metadata": {},
   "outputs": [],
   "source": [
    "guessmade = \"e\""
   ]
  },
  {
   "cell_type": "code",
   "execution_count": 15,
   "id": "fbe86edc",
   "metadata": {},
   "outputs": [
    {
     "data": {
      "text/plain": [
       "'_ _ _ _ l_ e_ _ _ '"
      ]
     },
     "execution_count": 15,
     "metadata": {},
     "output_type": "execute_result"
    }
   ],
   "source": [
    "main_word"
   ]
  },
  {
   "cell_type": "code",
   "execution_count": null,
   "id": "0bf792f3",
   "metadata": {},
   "outputs": [],
   "source": []
  }
 ],
 "metadata": {
  "kernelspec": {
   "display_name": "Python 3 (ipykernel)",
   "language": "python",
   "name": "python3"
  },
  "language_info": {
   "codemirror_mode": {
    "name": "ipython",
    "version": 3
   },
   "file_extension": ".py",
   "mimetype": "text/x-python",
   "name": "python",
   "nbconvert_exporter": "python",
   "pygments_lexer": "ipython3",
   "version": "3.9.7"
  }
 },
 "nbformat": 4,
 "nbformat_minor": 5
}
