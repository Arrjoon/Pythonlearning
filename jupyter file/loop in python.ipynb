{
 "cells": [
  {
   "cell_type": "code",
   "execution_count": 4,
   "id": "8c403edd",
   "metadata": {},
   "outputs": [
    {
     "name": "stdout",
     "output_type": "stream",
     "text": [
      "0 ram\n",
      "1 hari\n",
      "2 govinda\n",
      "3 rameshowr\n"
     ]
    }
   ],
   "source": [
    "for key, value in enumerate([\"ram\",\"hari\",\"govinda\",\"rameshowr\"]):\n",
    "    print(key,value)"
   ]
  },
  {
   "cell_type": "code",
   "execution_count": 13,
   "id": "8874ab41",
   "metadata": {},
   "outputs": [
    {
     "name": "stdout",
     "output_type": "stream",
     "text": [
      "ram\n",
      "hari\n",
      "govinda\n",
      "rameshowr\n"
     ]
    }
   ],
   "source": [
    "for value in [\"ram\",\"hari\",\"govinda\",\"rameshowr\"]:\n",
    "    print(value)"
   ]
  },
  {
   "cell_type": "markdown",
   "id": "14a070fe",
   "metadata": {},
   "source": [
    "using enumerate() is used to loop through the containers printing the index number aloong with the value present in that particular index."
   ]
  },
  {
   "cell_type": "code",
   "execution_count": 16,
   "id": "a9a49fc2",
   "metadata": {},
   "outputs": [
    {
     "name": "stdout",
     "output_type": "stream",
     "text": [
      "Geeks for Geeks is the Best Coding Platform "
     ]
    }
   ],
   "source": [
    "# python code to demonstrate working of enumerate()\n",
    "\n",
    "for key, value in enumerate(['Geeks', 'for', 'Geeks',\n",
    "\t\t\t\t\t\t\t'is', 'the', 'Best',\n",
    "\t\t\t\t\t\t\t'Coding', 'Platform']):\n",
    "\tprint(value,end=\" \")\n"
   ]
  },
  {
   "cell_type": "markdown",
   "id": "85369f7c",
   "metadata": {},
   "source": [
    "Using zip(): zip() is used to combine 2 similar containers(list-list or dict-dict) printing the values sequentially. The loop exists only till the smaller container ends. A detailed explanation of zip() and enumerate() can be found here."
   ]
  },
  {
   "cell_type": "code",
   "execution_count": 23,
   "id": "dba596a2",
   "metadata": {},
   "outputs": [
    {
     "name": "stdout",
     "output_type": "stream",
     "text": [
      "ram nepal\n",
      "shayam kathmandu\n",
      "hari dhading\n",
      "pokhara dolakha\n"
     ]
    }
   ],
   "source": [
    "list1 =[\"ram\",\"shayam\",\"hari\",\"pokhara\"]\n",
    "list2 = [\"nepal\",\"kathmandu\",\"dhading\",\"dolakha\"]\n",
    "\n",
    "for name,city in zip(list1,list2):\n",
    "    print(name,city)"
   ]
  },
  {
   "cell_type": "code",
   "execution_count": null,
   "id": "ec11888f",
   "metadata": {},
   "outputs": [],
   "source": []
  }
 ],
 "metadata": {
  "kernelspec": {
   "display_name": "Python 3 (ipykernel)",
   "language": "python",
   "name": "python3"
  },
  "language_info": {
   "codemirror_mode": {
    "name": "ipython",
    "version": 3
   },
   "file_extension": ".py",
   "mimetype": "text/x-python",
   "name": "python",
   "nbconvert_exporter": "python",
   "pygments_lexer": "ipython3",
   "version": "3.9.7"
  }
 },
 "nbformat": 4,
 "nbformat_minor": 5
}
